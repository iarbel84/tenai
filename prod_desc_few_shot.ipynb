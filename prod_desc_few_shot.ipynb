{
 "cells": [
  {
   "attachments": {},
   "cell_type": "markdown",
   "metadata": {
    "collapsed": false
   },
   "source": [
    "### Imports and setup"
   ]
  },
  {
   "cell_type": "code",
   "execution_count": 37,
   "metadata": {
    "collapsed": false
   },
   "outputs": [],
   "source": [
    "import os\n",
    "import openai\n",
    "import pandas as pd\n",
    "import numpy as np\n",
    "import pickle\n",
    "from dotenv import load_dotenv\n",
    "from typing import Dict, Optional\n",
    "from pprint import pprint\n",
    "from datasets import load_dataset\n",
    "from IPython.display import display, HTML"
   ]
  },
  {
   "cell_type": "code",
   "execution_count": 38,
   "metadata": {
    "collapsed": false
   },
   "outputs": [],
   "source": [
    "load_dotenv()\n",
    "openai.api_key = os.getenv('OPENAI_KEY')"
   ]
  },
  {
   "attachments": {},
   "cell_type": "markdown",
   "metadata": {
    "collapsed": false
   },
   "source": [
    "### Content\n",
    "\n",
    "* [Data Processing](#data_processing)\n",
    "* [Prompts and functions](#prompts_and_functions])\n",
    "* [First prompt test](#first_test)\n",
    "* [Second prompt test](#second_test)\n",
    "* [Full run](#full_run)"
   ]
  },
  {
   "attachments": {},
   "cell_type": "markdown",
   "metadata": {
    "collapsed": false
   },
   "source": [
    "#### <a id='load_data'>Load Data</a>"
   ]
  },
  {
   "cell_type": "code",
   "execution_count": 3,
   "metadata": {
    "collapsed": false
   },
   "outputs": [
    {
     "data": {
      "application/vnd.jupyter.widget-view+json": {
       "model_id": "6b0979da49f04a61ae8599c0bfae99ec",
       "version_major": 2,
       "version_minor": 0
      },
      "text/plain": [
       "Downloading readme:   0%|          | 0.00/4.43k [00:00<?, ?B/s]"
      ]
     },
     "metadata": {},
     "output_type": "display_data"
    },
    {
     "data": {
      "application/vnd.jupyter.widget-view+json": {
       "model_id": "5adc864f03ab4fc08a7943a25c799571",
       "version_major": 2,
       "version_minor": 0
      },
      "text/plain": [
       "Downloading data files:   0%|          | 0/3 [00:00<?, ?it/s]"
      ]
     },
     "metadata": {},
     "output_type": "display_data"
    },
    {
     "data": {
      "application/vnd.jupyter.widget-view+json": {
       "model_id": "f22f424bdd8b4cf999b37957b7b30175",
       "version_major": 2,
       "version_minor": 0
      },
      "text/plain": [
       "Downloading data:   0%|          | 0.00/1.48M [00:00<?, ?B/s]"
      ]
     },
     "metadata": {},
     "output_type": "display_data"
    },
    {
     "data": {
      "application/vnd.jupyter.widget-view+json": {
       "model_id": "410f7de4c6b54077a93270b37cb5f4a2",
       "version_major": 2,
       "version_minor": 0
      },
      "text/plain": [
       "Downloading data:   0%|          | 0.00/446k [00:00<?, ?B/s]"
      ]
     },
     "metadata": {},
     "output_type": "display_data"
    },
    {
     "data": {
      "application/vnd.jupyter.widget-view+json": {
       "model_id": "8984d9e40b894135babd6003f062aaf5",
       "version_major": 2,
       "version_minor": 0
      },
      "text/plain": [
       "Downloading data:   0%|          | 0.00/236k [00:00<?, ?B/s]"
      ]
     },
     "metadata": {},
     "output_type": "display_data"
    },
    {
     "data": {
      "application/vnd.jupyter.widget-view+json": {
       "model_id": "bc5141377f90408e8d9b289081ac33fc",
       "version_major": 2,
       "version_minor": 0
      },
      "text/plain": [
       "Extracting data files:   0%|          | 0/3 [00:00<?, ?it/s]"
      ]
     },
     "metadata": {},
     "output_type": "display_data"
    },
    {
     "data": {
      "application/vnd.jupyter.widget-view+json": {
       "model_id": "6a03bed44ae84ccea338fd4d1adcfac0",
       "version_major": 2,
       "version_minor": 0
      },
      "text/plain": [
       "Generating train split:   0%|          | 0/716 [00:00<?, ? examples/s]"
      ]
     },
     "metadata": {},
     "output_type": "display_data"
    },
    {
     "data": {
      "application/vnd.jupyter.widget-view+json": {
       "model_id": "9e03ad2ef65e48449c8f2a398506c3be",
       "version_major": 2,
       "version_minor": 0
      },
      "text/plain": [
       "Generating validation split:   0%|          | 0/204 [00:00<?, ? examples/s]"
      ]
     },
     "metadata": {},
     "output_type": "display_data"
    },
    {
     "data": {
      "application/vnd.jupyter.widget-view+json": {
       "model_id": "160eca62c87d48bba327086b6681c4d0",
       "version_major": 2,
       "version_minor": 0
      },
      "text/plain": [
       "Generating test split:   0%|          | 0/103 [00:00<?, ? examples/s]"
      ]
     },
     "metadata": {},
     "output_type": "display_data"
    }
   ],
   "source": [
    "# Load Amazon product dataset. We'll use 'validation' split for few-shot prompting, and 'test' split to generate feature-bullets\n",
    "\n",
    "fs_dataset = load_dataset('iarbel/amazon-product-data-filter', split='validation')\n",
    "test_dataset = load_dataset('iarbel/amazon-product-data-filter', split='test')"
   ]
  },
  {
   "cell_type": "code",
   "execution_count": 4,
   "metadata": {},
   "outputs": [],
   "source": [
    "# Prepare Pandas DFs with the relevant columns\n",
    "\n",
    "columns_to_use = ['asin', 'category', 'title', 'tech_process', 'labels']\n",
    "\n",
    "fs_df = fs_dataset.to_pandas()[columns_to_use]\n",
    "test_df = test_dataset.to_pandas()[columns_to_use]"
   ]
  },
  {
   "cell_type": "code",
   "execution_count": 5,
   "metadata": {},
   "outputs": [
    {
     "data": {
      "text/html": [
       "<div>\n",
       "<style scoped>\n",
       "    .dataframe tbody tr th:only-of-type {\n",
       "        vertical-align: middle;\n",
       "    }\n",
       "\n",
       "    .dataframe tbody tr th {\n",
       "        vertical-align: top;\n",
       "    }\n",
       "\n",
       "    .dataframe thead th {\n",
       "        text-align: right;\n",
       "    }\n",
       "</style>\n",
       "<table border=\"1\" class=\"dataframe\">\n",
       "  <thead>\n",
       "    <tr style=\"text-align: right;\">\n",
       "      <th></th>\n",
       "      <th>asin</th>\n",
       "      <th>category</th>\n",
       "      <th>title</th>\n",
       "      <th>tech_process</th>\n",
       "      <th>labels</th>\n",
       "    </tr>\n",
       "  </thead>\n",
       "  <tbody>\n",
       "    <tr>\n",
       "      <th>0</th>\n",
       "      <td>B08N7RXCC6</td>\n",
       "      <td>smartwatches</td>\n",
       "      <td>Citizen CZ Smart Grey Plated Silicone Strap St...</td>\n",
       "      <td>Brand is Citizen. Style is Citizen CZ Smart. C...</td>\n",
       "      <td>\\n- SMARTWATCH POWERED BY WEAR OS BY GOOGLE IS...</td>\n",
       "    </tr>\n",
       "    <tr>\n",
       "      <th>1</th>\n",
       "      <td>B00Y3B7AHS</td>\n",
       "      <td>speakers</td>\n",
       "      <td>JBL Flip 4 Waterproof Portable Bluetooth Speak...</td>\n",
       "      <td>Brand is JBL. Speaker Type is Outdoor. Connect...</td>\n",
       "      <td>\\n- WIRELESSLY CONNECT UP TO 2 SMARTPHONES: or...</td>\n",
       "    </tr>\n",
       "    <tr>\n",
       "      <th>2</th>\n",
       "      <td>B07GXJZVQW</td>\n",
       "      <td>office_and_school_supplies</td>\n",
       "      <td>Early Buy Sticky Notes 6 Bright Color 6 Pads S...</td>\n",
       "      <td>Color is 6 Pads. Size is 3 x 3 inches. Brand i...</td>\n",
       "      <td>\\n- 3 IN X: 3 in, 6 Pads / Pack, 100 Sheets / ...</td>\n",
       "    </tr>\n",
       "  </tbody>\n",
       "</table>\n",
       "</div>"
      ],
      "text/plain": [
       "         asin                    category  \\\n",
       "0  B08N7RXCC6                smartwatches   \n",
       "1  B00Y3B7AHS                    speakers   \n",
       "2  B07GXJZVQW  office_and_school_supplies   \n",
       "\n",
       "                                               title  \\\n",
       "0  Citizen CZ Smart Grey Plated Silicone Strap St...   \n",
       "1  JBL Flip 4 Waterproof Portable Bluetooth Speak...   \n",
       "2  Early Buy Sticky Notes 6 Bright Color 6 Pads S...   \n",
       "\n",
       "                                        tech_process  \\\n",
       "0  Brand is Citizen. Style is Citizen CZ Smart. C...   \n",
       "1  Brand is JBL. Speaker Type is Outdoor. Connect...   \n",
       "2  Color is 6 Pads. Size is 3 x 3 inches. Brand i...   \n",
       "\n",
       "                                              labels  \n",
       "0  \\n- SMARTWATCH POWERED BY WEAR OS BY GOOGLE IS...  \n",
       "1  \\n- WIRELESSLY CONNECT UP TO 2 SMARTPHONES: or...  \n",
       "2  \\n- 3 IN X: 3 in, 6 Pads / Pack, 100 Sheets / ...  "
      ]
     },
     "execution_count": 5,
     "metadata": {},
     "output_type": "execute_result"
    }
   ],
   "source": [
    "# Inspect few-shot DF \n",
    "\n",
    "fs_df.head(3)"
   ]
  },
  {
   "cell_type": "markdown",
   "metadata": {},
   "source": [
    "#### Embed and Index"
   ]
  },
  {
   "cell_type": "code",
   "execution_count": 6,
   "metadata": {},
   "outputs": [],
   "source": [
    "from langchain.embeddings.openai import OpenAIEmbeddings\n",
    "from langchain.vectorstores import FAISS\n",
    "from langchain.vectorstores.utils import DistanceStrategy"
   ]
  },
  {
   "cell_type": "code",
   "execution_count": 7,
   "metadata": {},
   "outputs": [],
   "source": [
    "os.environ['OPENAI_API_KEY'] = os.getenv('OPENAI_KEY')"
   ]
  },
  {
   "cell_type": "code",
   "execution_count": 8,
   "metadata": {},
   "outputs": [],
   "source": [
    "# Product titles will serve as the reference for few-shot context. Therefore we embed and index titles from fs_df\n",
    "\n",
    "documents = fs_df['title'].to_list()"
   ]
  },
  {
   "cell_type": "code",
   "execution_count": 9,
   "metadata": {},
   "outputs": [
    {
     "data": {
      "text/plain": [
       "['Citizen CZ Smart Grey Plated Silicone Strap Stainless Steel Smartwatch Touchscreen, Heartrate, GPS, Speaker, Bluetooth, Notifications, iPhone and Android Compatible, Powered by Google Wear OS',\n",
       " 'JBL Flip 4 Waterproof Portable Bluetooth Speaker (Black) (Renewed)',\n",
       " 'Early Buy Sticky Notes 6 Bright Color 6 Pads Self-Stick Notes 3 in x 3 in, 100 Sheets/Pad']"
      ]
     },
     "execution_count": 9,
     "metadata": {},
     "output_type": "execute_result"
    }
   ],
   "source": [
    "# Inspect the data\n",
    "\n",
    "documents[:3]"
   ]
  },
  {
   "cell_type": "code",
   "execution_count": 13,
   "metadata": {},
   "outputs": [],
   "source": [
    "# Create the DB. We use OpenAI for the embedding, and use the strategy `MAX_INNER_PRODUCT` as we want to use cosine similarity\n",
    "\n",
    "# db = FAISS.from_texts(documents, OpenAIEmbeddings(), \n",
    "#                       distance_strategy=DistanceStrategy.MAX_INNER_PRODUCT)"
   ]
  },
  {
   "cell_type": "code",
   "execution_count": 14,
   "metadata": {},
   "outputs": [],
   "source": [
    "# We save the index and vector-store for future use, to avoid future costs and time of embedding and indexing\n",
    "# db.save_local('data/vector_stores/amazon-product-embedding')\n",
    "\n",
    "# Load a locally saved vector store\n",
    "# db = FAISS.load_local('data/vector_stores/amazon-product-embedding', OpenAIEmbeddings(),\n",
    "#                       distance_strategy=DistanceStrategy.MAX_INNER_PRODUCT)"
   ]
  },
  {
   "cell_type": "code",
   "execution_count": 11,
   "metadata": {},
   "outputs": [
    {
     "name": "stdout",
     "output_type": "stream",
     "text": [
      "('WeMo Smart Video Doorbell - Apple HomeKit Secure Video with HDR - Smart Home '\n",
      " 'Products Video Doorbell Camera - Ring Doorbell for Security Camera System - '\n",
      " 'WiFi Camera Doorbell w/ 223° FOV & 2-Way Audio')\n"
     ]
    }
   ],
   "source": [
    "# Next, we select a product from the test set and search other products with similar titles to it\n",
    "\n",
    "example_title = test_df.iloc[0]['title']\n",
    "\n",
    "pprint(example_title)"
   ]
  },
  {
   "cell_type": "code",
   "execution_count": 12,
   "metadata": {},
   "outputs": [],
   "source": [
    "# Embed the vector. We can embed and search at once, but in this case it's better to have the actual vector\n",
    "\n",
    "example_vector = OpenAIEmbeddings().embed_query(example_title)"
   ]
  },
  {
   "cell_type": "code",
   "execution_count": 16,
   "metadata": {},
   "outputs": [],
   "source": [
    "# Save / load a local vector\n",
    "\n",
    "# with open('data/vector_stores/example_vector.pkl', 'wb') as handle:\n",
    "#     pickle.dump(example_vector, handle, protocol=pickle.HIGHEST_PROTOCOL)\n",
    "\n",
    "# with open('data/vector_stores/example_vector.pkl', 'rb') as handle:\n",
    "#     example_vector = pickle.load(handle)"
   ]
  },
  {
   "cell_type": "code",
   "execution_count": 17,
   "metadata": {},
   "outputs": [
    {
     "name": "stdout",
     "output_type": "stream",
     "text": [
      "Vector dim: 1536\n",
      "Vector norm: 1.0\n"
     ]
    }
   ],
   "source": [
    "# Inspect the vector. We'll see that its length is 1536 (OpenAI embedding dim), and verify that it's L-2 normalized.\n",
    "\n",
    "print(f'Vector dim: {len(example_vector)}')\n",
    "print(f'Vector norm: {np.linalg.norm(np.array(example_vector))}')"
   ]
  },
  {
   "cell_type": "code",
   "execution_count": 18,
   "metadata": {},
   "outputs": [
    {
     "name": "stdout",
     "output_type": "stream",
     "text": [
      "('Title: Brilliant Smart Home Control (3-Switch Panel) — Alexa Built-In & '\n",
      " 'Compatible with Ring, Sonos, Hue, Google Nest, Wemo, SmartThings, Apple '\n",
      " 'HomeKit — In-Wall Touchscreen Control for Lights, Music, & More\\n'\n",
      " 'Category: smart_home_products\\n'\n",
      " 'Score: 0.8510\\n'\n",
      " '\\n')\n",
      "('Title: Brilliant Smart Dimmer Switch (Light Almond) — Compatible with Alexa, '\n",
      " 'Google Assistant, Apple HomeKit, Hue, LIFX, SmartThings, TP-Link, Wemo and '\n",
      " 'More\\n'\n",
      " 'Category: smart_home_products\\n'\n",
      " 'Score: 0.8283\\n'\n",
      " '\\n')\n",
      "('Title: Ousmile Smart Sunrise Hatch Alarm Clock, Fast Wireless Charger '\n",
      " 'Intelligent Atmosphere Lamp, RGB Night Light Bluetooth Speaker APP Control '\n",
      " 'Table Desk Lamp for Bedroom Home Decer Office Gift\\n'\n",
      " 'Category: smart_home_products\\n'\n",
      " 'Score: 0.8276\\n'\n",
      " '\\n')\n",
      "('Title: BWLLNI Lighted Vanity Mirror with Lights, Makeup Mirror with Storage '\n",
      " 'Shelves, Vanity Mirror with Lights 12 Dimmable LED Bulbs, 3 Color Lighting '\n",
      " 'Modes, Smart Touch Control, Detachable 10x Magnification\\n'\n",
      " 'Category: smart_home_products\\n'\n",
      " 'Score: 0.8094\\n'\n",
      " '\\n')\n",
      "('Title: HAPPRUN Projector, 5G WiFi Bluetooth Projector, Native 1080P Portable '\n",
      " 'Projector with Screen and Bag, Support 4K, Zoom, 300\" Outdoor Movie '\n",
      " 'Projector Compatible with iOS/Android/TV Stick/PS5\\n'\n",
      " 'Category: projector_mounts\\n'\n",
      " 'Score: 0.8083\\n'\n",
      " '\\n')\n"
     ]
    }
   ],
   "source": [
    "# Get the top 5 most similar titles to the example title\n",
    "similarity_list = db.similarity_search_with_score_by_vector(example_vector, k=5)\n",
    "\n",
    "for i in similarity_list:\n",
    "    title = i[0].page_content\n",
    "    score = i[1]\n",
    "    category = fs_df[fs_df['title'] == title].iloc[0]['category']\n",
    "    pprint(f'Title: {i[0].page_content}\\nCategory: {category}\\nScore: {i[1]:.4f}\\n\\n')"
   ]
  },
  {
   "cell_type": "code",
   "execution_count": 19,
   "metadata": {},
   "outputs": [
    {
     "name": "stdout",
     "output_type": "stream",
     "text": [
      "('Title: Brilliant Smart Home Control (3-Switch Panel) — Alexa Built-In & '\n",
      " 'Compatible with Ring, Sonos, Hue, Google Nest, Wemo, SmartThings, Apple '\n",
      " 'HomeKit — In-Wall Touchscreen Control for Lights, Music, & More\\n'\n",
      " 'Category: smart_home_products\\n'\n",
      " 'Score: 0.8510\\n'\n",
      " '\\n')\n",
      "('Title: HDMI Video Capture Card, 4K HDMI to USB Capture Card Full HD 1080P '\n",
      " '30fps, Record via DSLR, Camcorder, Action Cam for Live Streaming, Compatible '\n",
      " 'with Nintendo Switch, PS4, Xbox One, PC\\n'\n",
      " 'Category: computer_input_devices\\n'\n",
      " 'Score: 0.8048\\n'\n",
      " '\\n')\n",
      "('Title: VAULTEK Smart Station Home Centric Biometric Smart Safe with '\n",
      " 'Bluetooth 2.0 and Auto Open Drawer + Wireless Phone Charger (Titanium Gray)\\n'\n",
      " 'Category: smart_home_products\\n'\n",
      " 'Score: 0.8005\\n'\n",
      " '\\n')\n",
      "('Title: EIGIIS Smart Watch for Women 1.7\" HD Waterproof Smartwatch Compatible '\n",
      " 'with iPhone Samsung Android Phones Sports Fitness Tracker Watch with Heart '\n",
      " 'Rate Sleep Monitor Pedometer\\n'\n",
      " 'Category: smartwatches\\n'\n",
      " 'Score: 0.7989\\n'\n",
      " '\\n')\n",
      "('Title: Bone Conduction Speaker, True Wireless Speakers Mini Portable Stereo '\n",
      " 'Sound Creative Portable Speaker Compatible with iPhone, iPad, Samsung, '\n",
      " 'Tablets and More Bone Conduction Sound Box, Bigvapor\\n'\n",
      " 'Category: speakers\\n'\n",
      " 'Score: 0.7952\\n'\n",
      " '\\n')\n"
     ]
    }
   ],
   "source": [
    "# We can see that results are indeed satisfactory. \n",
    "# Recall that titles need not be identical or similar, we only wish to use products that are similar enough, so that their few-shot examples will be helpful.\n",
    "\n",
    "# Another option is to use Maximal Marginal Relevance (MMR), so we get more diversity in the results\n",
    "\n",
    "similarity_list_mmr = db.max_marginal_relevance_search_with_score_by_vector(example_vector, k=5, lambda_mult=0.5)\n",
    "similarity_list_mmr.sort(key=lambda tup: -tup[1])\n",
    "\n",
    "for i in similarity_list_mmr:\n",
    "    title = i[0].page_content\n",
    "    score = i[1]\n",
    "    category = fs_df[fs_df['title'] == title].iloc[0]['category']\n",
    "    pprint(f'Title: {i[0].page_content}\\nCategory: {category}\\nScore: {i[1]:.4f}\\n\\n')"
   ]
  },
  {
   "attachments": {},
   "cell_type": "markdown",
   "metadata": {
    "collapsed": false
   },
   "source": [
    "#### <a id='prompts_and_functions'>Prompts and functions</a>"
   ]
  },
  {
   "cell_type": "code",
   "execution_count": 26,
   "metadata": {
    "collapsed": false
   },
   "outputs": [],
   "source": [
    "# Next we build some functions to help with prompting the OpenAI API\n",
    "MAX_TOKENS = 700\n",
    "USER_TXT = 'Write feature-bullets for an Amazon product page. ' \\\n",
    "           'Title: {title}. Technical details: {tech_data}.\\n\\n### Feature-bullets:'\n",
    "\n",
    "\n",
    "class Conversation:\n",
    "    \"\"\"\n",
    "    A class to construct conversations with the ChatAPI\n",
    "    \"\"\"\n",
    "    def __init__(self):\n",
    "        self.messages = [{'role': 'system',\n",
    "                          'content': 'You are a helpful assistant. Your task is to write feature-bullets for an Amazon product page.'}]\n",
    "\n",
    "    def add_message(self, role: str, content: str) -> None:\n",
    "        # Validate inputs\n",
    "        role = role.lower()\n",
    "        last_role = self.messages[-1]['role']\n",
    "        if role not in ['user', 'assistant']:\n",
    "            raise ValueError('Roles can be \"user\" or \"assistant\" only')\n",
    "        if role == 'user' and last_role not in ['system', 'assistant']:\n",
    "            raise ValueError('\"user\" message can only follow \"assistant\" message')\n",
    "        elif role == 'assistant' and last_role != 'user':\n",
    "            raise ValueError('\"assistant\" message can only follow \"user\" message')\n",
    "        \n",
    "        message = {\"role\": role, \"content\": content}\n",
    "        self.messages.append(message)\n",
    "            \n",
    "    def display_conversation(self) -> None:\n",
    "        SEP = '\\n'\n",
    "        for message in self.messages:\n",
    "            if message['role'] == 'system':\n",
    "                display(HTML(f'<b>{message[\"content\"]}</b>'))\n",
    "            elif message['role'] == 'user':\n",
    "                msg_align = message[\"content\"].replace(\"Title:\", \"<br><b>Title:</b>\")\\\n",
    "                    .replace(\"Technical details:\", \"<br><b>Technical details:</b>\").replace(\"### Feature-bullets:\", \"<br><b>Feature-bullets:</b>\")\n",
    "                display(HTML(f'<p style=\"background-color:White; color:Black; padding:5px;\">{msg_align}</p>'))\n",
    "            else:\n",
    "                msg_align = message[\"content\"].lstrip(SEP).replace(SEP, \"<br><br>\")\n",
    "                display(HTML(f'<p style=\"background-color:LightGray; color:Black; padding:5px;\">{msg_align}</p>'))\n",
    "\n",
    "def api_call(messages: Dict[str, str], temperature: float = 0.7, top_p: int = 1, n_responses: int = 1) -> dict:\n",
    "    \"\"\"\n",
    "    A function to call the ChatAPI. Taken in a conversation, and the optional params temperature (controls randomness) and n_responses\n",
    "    \"\"\"\n",
    "    params = {'model': 'gpt-3.5-turbo', 'messages': messages, 'temperature': temperature, 'max_tokens': MAX_TOKENS, 'n': n_responses, 'top_p': top_p}\n",
    "    response = openai.ChatCompletion.create(**params)\n",
    "\n",
    "    text = [response['choices'][i]['message']['content'] for i in range(n_responses)]\n",
    "    out = {'object': 'chat', 'usage': response['usage']._previous, 'text': text}\n",
    "    return out"
   ]
  },
  {
   "attachments": {},
   "cell_type": "markdown",
   "metadata": {
    "collapsed": false
   },
   "source": [
    "#### <a id='first_test'>First prompt test - Zero shot</a>"
   ]
  },
  {
   "cell_type": "code",
   "execution_count": 27,
   "metadata": {
    "collapsed": false
   },
   "outputs": [
    {
     "data": {
      "text/html": [
       "<b>You are a helpful assistant. Your task is to write feature-bullets for an Amazon product page.</b>"
      ],
      "text/plain": [
       "<IPython.core.display.HTML object>"
      ]
     },
     "metadata": {},
     "output_type": "display_data"
    },
    {
     "data": {
      "text/html": [
       "<p style=\"background-color:White; color:Black; padding:5px;\">Write feature-bullets for an Amazon product page. <br><b>Title:</b> WeMo Smart Video Doorbell - Apple HomeKit Secure Video with HDR - Smart Home Products Video Doorbell Camera - Ring Doorbell for Security Camera System - WiFi Camera Doorbell w/ 223° FOV & 2-Way Audio. <br><b>Technical details:</b> Recommended Uses For Product are Doorbell. Brand is WeMo. Connectivity Technology is Wireless, Wired. Special Feature is HD Resolution, Night Vision, Image Sensor.\n",
       "\n",
       "<br><b>Feature-bullets:</b></p>"
      ],
      "text/plain": [
       "<IPython.core.display.HTML object>"
      ]
     },
     "metadata": {},
     "output_type": "display_data"
    }
   ],
   "source": [
    "# Get a single data point\n",
    "example_title = test_df.iloc[0]['title']\n",
    "example_tech = test_df.iloc[0]['tech_process']\n",
    "example_labels = test_df.iloc[0]['labels']\n",
    "\n",
    "# Init a conversation\n",
    "conv1 = Conversation()\n",
    "# Append a message\n",
    "conv1.add_message('user', USER_TXT.format(title=example_title, tech_data=example_tech))\n",
    "\n",
    "# Inspect the prompt\n",
    "conv1.display_conversation()"
   ]
  },
  {
   "cell_type": "code",
   "execution_count": 28,
   "metadata": {},
   "outputs": [
    {
     "name": "stdout",
     "output_type": "stream",
     "text": [
      "('- Apple HomeKit Secure Video integration for enhanced security and privacy\\n'\n",
      " '- High Dynamic Range (HDR) technology for clear and vivid video footage\\n'\n",
      " '- Seamless integration with your smart home products for a complete security '\n",
      " 'system\\n'\n",
      " '- Wide 223° field of view (FOV) to capture a larger area of your property\\n'\n",
      " '- Two-way audio communication for convenient and effective conversations '\n",
      " 'with visitors\\n'\n",
      " '- Wireless and wired connectivity options for flexible installation\\n'\n",
      " '- HD resolution for crisp and detailed video quality\\n'\n",
      " '- Night vision capability for round-the-clock monitoring\\n'\n",
      " '- Advanced image sensor for accurate motion detection and alert '\n",
      " 'notifications')\n"
     ]
    }
   ],
   "source": [
    "# Call the API\n",
    "res1 = api_call(conv1.messages, temperature=0.7)\n",
    "\n",
    "# Print results\n",
    "pprint(res1['text'][0])"
   ]
  },
  {
   "cell_type": "code",
   "execution_count": 29,
   "metadata": {},
   "outputs": [
    {
     "name": "stdout",
     "output_type": "stream",
     "text": [
      "('\\n'\n",
      " '- COMPATIBLE WITH HOMEKIT SECURE VIDEO: With Apple HomeKit this smart video '\n",
      " 'doorbell camera can send notifications to your Apple iPhone, helping you see '\n",
      " 'who is at your door with face recognition. NOTE: Only compatible with a '\n",
      " 'wired 16-24V AC doorbell system.\\n'\n",
      " '- WIFI CAMERA WITH WIDE FIELD OF VIEW: Our home security camera has a super '\n",
      " 'wide FOV measuring 178° vertical x 140° horizontal x 223° diagonal, so '\n",
      " 'you’ll never miss a doorbell ring or nearby activity.\\n'\n",
      " '- CLEAR PICTURE IN ANY LIGHTING: This smart home doorbell camera uses '\n",
      " 'infrared technology to help get crisp video, even in the dark with low-light '\n",
      " 'sensitivity and an HD camera.\\n'\n",
      " '- DUAL WIFI BANDS BRING PEACE OF MIND: The 2.4GHz WiFi band offers a solid, '\n",
      " 'long distance connection that easily penetrates walls, while the 5GHz wifi '\n",
      " 'band offers greater speed while in closer range.\\n'\n",
      " '- REVIEW VIDEO WITH EASE: With your existing iCloud storage plan and our '\n",
      " 'HomeKit Secure Video enabled security camera, your 10-day motion-based '\n",
      " 'recording history is securely stored and easily available to view whenever '\n",
      " 'you need it.')\n"
     ]
    }
   ],
   "source": [
    "# Let's compare the output to the original feature-bullets\n",
    "pprint(test_df.iloc[0]['labels'])"
   ]
  },
  {
   "cell_type": "code",
   "execution_count": 30,
   "metadata": {},
   "outputs": [
    {
     "data": {
      "text/plain": [
       "{'prompt_tokens': 132, 'completion_tokens': 117, 'total_tokens': 249}"
      ]
     },
     "execution_count": 30,
     "metadata": {},
     "output_type": "execute_result"
    }
   ],
   "source": [
    "# API usage stats\n",
    "res1['usage']"
   ]
  },
  {
   "attachments": {},
   "cell_type": "markdown",
   "metadata": {
    "collapsed": false
   },
   "source": [
    "#### <a id='second_test'>Second prompt test</a>"
   ]
  },
  {
   "cell_type": "code",
   "execution_count": 31,
   "metadata": {},
   "outputs": [],
   "source": [
    "# Now, we construct a few-shot example. We will search for titles that are similar to our target product and provide these as examples for the LLM\n",
    "\n",
    "class FewShotData:\n",
    "    def __init__(self, few_shot_df: pd.DataFrame, vector_db: FAISS):\n",
    "        self.few_shot_df = few_shot_df\n",
    "        self.vector_db = vector_db\n",
    "        \n",
    "    def extract_few_shot_data(self, target_title: str, k_shot: int = 2, **db_kwargs) -> pd.DataFrame:\n",
    "         # Find relevant products\n",
    "        target_title_vector = OpenAIEmbeddings().embed_query(target_title)\n",
    "        similarity_list_mmr = self.vector_db.max_marginal_relevance_search_with_score_by_vector(target_title_vector, k=k_shot, **db_kwargs)\n",
    "        few_shot_titles = [i[0].page_content for i in similarity_list_mmr]\n",
    "        \n",
    "        # Extract relevant data\n",
    "        few_shot_data = self.few_shot_df[self.few_shot_df['title'].isin(few_shot_titles)][['title', 'tech_process', 'labels']]\n",
    "        return few_shot_data\n",
    "\n",
    "    def construct_few_shot_conversation(self, target_title: str, target_tech_data: str, few_shot_data: pd.DataFrame) -> Conversation:\n",
    "        # Structure the few-shott data\n",
    "        fs_titles = few_shot_data['title'].to_list()\n",
    "        fs_tech_data = few_shot_data['tech_process'].to_list()\n",
    "        fs_labels = few_shot_data['labels'].to_list()\n",
    "    \n",
    "        # Init a conversation, populate with few-shot data\n",
    "        conv = Conversation()\n",
    "        for title, tech_data, lables in zip(fs_titles, fs_tech_data, fs_labels):\n",
    "            conv.add_message('user', USER_TXT.format(title=title, tech_data=tech_data))\n",
    "            conv.add_message('assistant',lables)\n",
    "            \n",
    "        # Add the final user prompt\n",
    "        conv.add_message('user', USER_TXT.format(title=target_title, tech_data=target_tech_data))\n",
    "        return conv\n",
    "    "
   ]
  },
  {
   "cell_type": "code",
   "execution_count": 33,
   "metadata": {},
   "outputs": [
    {
     "data": {
      "text/html": [
       "<div>\n",
       "<style scoped>\n",
       "    .dataframe tbody tr th:only-of-type {\n",
       "        vertical-align: middle;\n",
       "    }\n",
       "\n",
       "    .dataframe tbody tr th {\n",
       "        vertical-align: top;\n",
       "    }\n",
       "\n",
       "    .dataframe thead th {\n",
       "        text-align: right;\n",
       "    }\n",
       "</style>\n",
       "<table border=\"1\" class=\"dataframe\">\n",
       "  <thead>\n",
       "    <tr style=\"text-align: right;\">\n",
       "      <th></th>\n",
       "      <th>title</th>\n",
       "      <th>tech_process</th>\n",
       "      <th>labels</th>\n",
       "    </tr>\n",
       "  </thead>\n",
       "  <tbody>\n",
       "    <tr>\n",
       "      <th>36</th>\n",
       "      <td>Brilliant Smart Home Control (3-Switch Panel) ...</td>\n",
       "      <td>Brand is Brilliant. Actuator Type is Touch. Nu...</td>\n",
       "      <td>\\n- EASY SMART HOME CONTROL FOR EVERYONE: Bril...</td>\n",
       "    </tr>\n",
       "    <tr>\n",
       "      <th>101</th>\n",
       "      <td>HDMI Video Capture Card, 4K HDMI to USB Captur...</td>\n",
       "      <td>Brand is LinkBand. Hardware Interface is HDMI,...</td>\n",
       "      <td>\\n- STUNNING 1080P VIDEO QUALITY: The HDMI cap...</td>\n",
       "    </tr>\n",
       "    <tr>\n",
       "      <th>137</th>\n",
       "      <td>Bone Conduction Speaker, True Wireless Speaker...</td>\n",
       "      <td>Brand is heypower. Speaker Type is Surround So...</td>\n",
       "      <td>\\n- TURN ANYTHING HOLLOW INTO A SPEAKER: Snugg...</td>\n",
       "    </tr>\n",
       "  </tbody>\n",
       "</table>\n",
       "</div>"
      ],
      "text/plain": [
       "                                                 title  \\\n",
       "36   Brilliant Smart Home Control (3-Switch Panel) ...   \n",
       "101  HDMI Video Capture Card, 4K HDMI to USB Captur...   \n",
       "137  Bone Conduction Speaker, True Wireless Speaker...   \n",
       "\n",
       "                                          tech_process  \\\n",
       "36   Brand is Brilliant. Actuator Type is Touch. Nu...   \n",
       "101  Brand is LinkBand. Hardware Interface is HDMI,...   \n",
       "137  Brand is heypower. Speaker Type is Surround So...   \n",
       "\n",
       "                                                labels  \n",
       "36   \\n- EASY SMART HOME CONTROL FOR EVERYONE: Bril...  \n",
       "101  \\n- STUNNING 1080P VIDEO QUALITY: The HDMI cap...  \n",
       "137  \\n- TURN ANYTHING HOLLOW INTO A SPEAKER: Snugg...  "
      ]
     },
     "execution_count": 33,
     "metadata": {},
     "output_type": "execute_result"
    }
   ],
   "source": [
    "# Init a `FewShotData` instance\n",
    "fs_example = FewShotData(few_shot_df=fs_df, vector_db=db)\n",
    "fs_data = fs_example.extract_few_shot_data(target_title=example_title, k_shot=3)\n",
    "\n",
    "fs_data"
   ]
  },
  {
   "cell_type": "code",
   "execution_count": 34,
   "metadata": {},
   "outputs": [
    {
     "data": {
      "text/html": [
       "<b>You are a helpful assistant. Your task is to write feature-bullets for an Amazon product page.</b>"
      ],
      "text/plain": [
       "<IPython.core.display.HTML object>"
      ]
     },
     "metadata": {},
     "output_type": "display_data"
    },
    {
     "data": {
      "text/html": [
       "<p style=\"background-color:White; color:Black; padding:5px;\">Write feature-bullets for an Amazon product page. <br><b>Title:</b> Brilliant Smart Home Control (3-Switch Panel) — Alexa Built-In & Compatible with Ring, Sonos, Hue, Google Nest, Wemo, SmartThings, Apple HomeKit — In-Wall Touchscreen Control for Lights, Music, & More. <br><b>Technical details:</b> Brand is Brilliant. Actuator Type is Touch. Number Of Positions are 3. Controller Type is Ring, Apple HomeKit, SmartThings, Amazon Alexa. Control Method is Voice. Unit Count is 1 Count. Manufacturer is Brilliant. Part Number is BHA120US-WH3. Item Weight is 8 ounces. Is Discontinued By Manufacturer are No. Size is 3-Switch Panel. Item Package Quantity is 1. Batteries Included? is No. Batteries Required? is No.\n",
       "\n",
       "<br><b>Feature-bullets:</b></p>"
      ],
      "text/plain": [
       "<IPython.core.display.HTML object>"
      ]
     },
     "metadata": {},
     "output_type": "display_data"
    },
    {
     "data": {
      "text/html": [
       "<p style=\"background-color:LightGray; color:Black; padding:5px;\">- EASY SMART HOME CONTROL FOR EVERYONE: Brilliant touchscreen panels with built-in Alexa make it easy for everyone at home to control popular smart devices, lighting, cameras, locks, thermostats, intercom, scenes and more by simply replacing a light switch.<br><br>- REPLACES A 3-GANG LIGHT SWITCH PANEL & REQUIRES NEUTRAL & GROUND WIRES: This 3-Switch Panel installs in a standard 3-gang electrical box. Includes a 5\" LCD touchscreen, a built-in camera with privacy shutter and a built-in motion sensor.<br><br>- SMART LIGHTING: Turn regular lights into smart lights (supports LED, CFL, halogen, incandescent bulbs, dimmable, multiway). Control Hue, LIFX, and Kasa TP-Link smart bulbs. Control lights using touch, voice, built-in motion detection, scenes or an app.<br><br>- IN-WALL SONOS, RING & SMART LOCK CONTROL: Now everyone at home can easily browse and play music with Sonos speakers, see who’s at the door with a Ring Video Doorbell, and unlock the door with a compatible smart lock—all without needing a phone.<br><br>- ELIMINATE VOICE ASSISTANT CLUTTER FROM COUNTERTOPS: Put Amazon Alexa in your walls and enjoy the convenience of built-in clutter-free voice control with audio and visual responses from a touchscreen panel on your wall.</p>"
      ],
      "text/plain": [
       "<IPython.core.display.HTML object>"
      ]
     },
     "metadata": {},
     "output_type": "display_data"
    },
    {
     "data": {
      "text/html": [
       "<p style=\"background-color:White; color:Black; padding:5px;\">Write feature-bullets for an Amazon product page. <br><b>Title:</b> HDMI Video Capture Card, 4K HDMI to USB Capture Card Full HD 1080P 30fps, Record via DSLR, Camcorder, Action Cam for Live Streaming, Compatible with Nintendo Switch, PS4, Xbox One, PC. <br><b>Technical details:</b> Brand is LinkBand. Hardware Interface is HDMI, USB 2.0. Video Capture Resolution is 1080p. Operating System is Linux, Windows, Mac OS. Platform is Linux, PlayStation, Windows. Item Weight is 0.64 ounces. Manufacturer is LinkBand.\n",
       "\n",
       "<br><b>Feature-bullets:</b></p>"
      ],
      "text/plain": [
       "<IPython.core.display.HTML object>"
      ]
     },
     "metadata": {},
     "output_type": "display_data"
    },
    {
     "data": {
      "text/html": [
       "<p style=\"background-color:LightGray; color:Black; padding:5px;\">- STUNNING 1080P VIDEO QUALITY: The HDMI capture card support max input resolution 4K @30Hz, max output resolution 1080P @30Hz.<br><br>- GAME CAPTURE CARD: With high-speed USB 2.0 technology, you can capture a hd HDMI video signal of a signal channel. The gaming capture card is suitable for devices with HDMI output, such as: PS4/Xbox one/Wii U/Nintendo Switch.<br><br>-  PLUG AND PLAY: No external driver or power supply needed, the usb capture card is ideal for low-latency game, can meet the needs of live broadcasting, gaming, teaching, video conference.<br><br>- WIDE COMPATIBILITY: Compatible with Windows, Mac, and Linux. Easily connect your DSLR, camcorder, or action camera to your PC or Mac. Makes it easier for you to have real-time streaming for Twitch, Youtube, OBS, Potplayer and VLC.<br><br>- LIFETIME WARRANTY: Free Lifetime replacement or refund guarantee if quality issue, please feel free to contact us via Amazon. 1. Find your order. 2. Click button \"Contact Seller\".</p>"
      ],
      "text/plain": [
       "<IPython.core.display.HTML object>"
      ]
     },
     "metadata": {},
     "output_type": "display_data"
    },
    {
     "data": {
      "text/html": [
       "<p style=\"background-color:White; color:Black; padding:5px;\">Write feature-bullets for an Amazon product page. <br><b>Title:</b> WeMo Smart Video Doorbell - Apple HomeKit Secure Video with HDR - Smart Home Products Video Doorbell Camera - Ring Doorbell for Security Camera System - WiFi Camera Doorbell w/ 223° FOV & 2-Way Audio. <br><b>Technical details:</b> Recommended Uses For Product are Doorbell. Brand is WeMo. Connectivity Technology is Wireless, Wired. Special Feature is HD Resolution, Night Vision, Image Sensor.\n",
       "\n",
       "<br><b>Feature-bullets:</b></p>"
      ],
      "text/plain": [
       "<IPython.core.display.HTML object>"
      ]
     },
     "metadata": {},
     "output_type": "display_data"
    }
   ],
   "source": [
    "# Construct a few-shot conversation + \n",
    "fs_conv = fs_example.construct_few_shot_conversation(target_title=example_title, target_tech_data=example_tech, few_shot_data=fs_data.iloc[:-1])\n",
    "\n",
    "fs_conv.display_conversation()"
   ]
  },
  {
   "cell_type": "code",
   "execution_count": 39,
   "metadata": {},
   "outputs": [],
   "source": [
    "res_2shot = api_call(fs_conv.messages, temperature=0.7)"
   ]
  },
  {
   "cell_type": "code",
   "execution_count": 40,
   "metadata": {},
   "outputs": [
    {
     "name": "stdout",
     "output_type": "stream",
     "text": [
      "('- SMART VIDEO DOORBELL: The WeMo Smart Video Doorbell is a sleek and '\n",
      " 'advanced doorbell camera that enhances the security of your home. \\n'\n",
      " '- APPLE HOMEKIT SECURE VIDEO: This doorbell camera is compatible with Apple '\n",
      " 'HomeKit Secure Video, providing you with a secure and private way to view '\n",
      " 'and manage your video footage.\\n'\n",
      " '- HIGH DEFINITION RESOLUTION: Capture clear and detailed video footage with '\n",
      " 'the HD resolution feature of this doorbell camera. \\n'\n",
      " '- ENHANCED NIGHT VISION: The night vision feature allows you to see clearly '\n",
      " 'even in low light conditions, ensuring the safety of your home day and '\n",
      " 'night. \\n'\n",
      " '- WIDE FIELD OF VIEW: With a 223° field of view, this doorbell camera covers '\n",
      " 'a wider area, allowing you to monitor your surroundings effectively. \\n'\n",
      " '- TWO-WAY AUDIO: Communicate with visitors at your door using the two-way '\n",
      " 'audio feature, providing a convenient and interactive experience. \\n'\n",
      " '- EASY INSTALLATION: The WeMo Smart Video Doorbell can be easily installed '\n",
      " 'and connected to your existing wiring or can be used wirelessly for added '\n",
      " 'convenience.')\n"
     ]
    }
   ],
   "source": [
    "pprint(res_2shot['text'][0])"
   ]
  },
  {
   "cell_type": "code",
   "execution_count": 41,
   "metadata": {},
   "outputs": [
    {
     "data": {
      "text/plain": [
       "{'prompt_tokens': 971, 'completion_tokens': 222, 'total_tokens': 1193}"
      ]
     },
     "execution_count": 41,
     "metadata": {},
     "output_type": "execute_result"
    }
   ],
   "source": [
    "res_2shot['usage']"
   ]
  },
  {
   "cell_type": "code",
   "execution_count": null,
   "metadata": {},
   "outputs": [],
   "source": []
  }
 ],
 "metadata": {
  "kernelspec": {
   "display_name": "Python 3",
   "language": "python",
   "name": "python3"
  },
  "language_info": {
   "codemirror_mode": {
    "name": "ipython",
    "version": 3
   },
   "file_extension": ".py",
   "mimetype": "text/x-python",
   "name": "python",
   "nbconvert_exporter": "python",
   "pygments_lexer": "ipython3",
   "version": "3.10.9"
  }
 },
 "nbformat": 4,
 "nbformat_minor": 0
}
